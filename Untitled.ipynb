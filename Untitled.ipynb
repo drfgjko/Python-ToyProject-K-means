{
 "cells": [
  {
   "cell_type": "code",
   "execution_count": 1,
   "id": "aac60480",
   "metadata": {
    "scrolled": false
   },
   "outputs": [
    {
     "data": {
      "text/html": [
       "<div>\n",
       "<style scoped>\n",
       "    .dataframe tbody tr th:only-of-type {\n",
       "        vertical-align: middle;\n",
       "    }\n",
       "\n",
       "    .dataframe tbody tr th {\n",
       "        vertical-align: top;\n",
       "    }\n",
       "\n",
       "    .dataframe thead th {\n",
       "        text-align: right;\n",
       "    }\n",
       "</style>\n",
       "<table border=\"1\" class=\"dataframe\">\n",
       "  <thead>\n",
       "    <tr style=\"text-align: right;\">\n",
       "      <th></th>\n",
       "      <th>status_id</th>\n",
       "      <th>status_type</th>\n",
       "      <th>status_published</th>\n",
       "      <th>num_reactions</th>\n",
       "      <th>num_comments</th>\n",
       "      <th>num_shares</th>\n",
       "      <th>num_likes</th>\n",
       "      <th>num_loves</th>\n",
       "      <th>num_wows</th>\n",
       "      <th>num_hahas</th>\n",
       "      <th>num_sads</th>\n",
       "      <th>num_angrys</th>\n",
       "      <th>Column1</th>\n",
       "      <th>Column2</th>\n",
       "      <th>Column3</th>\n",
       "      <th>Column4</th>\n",
       "    </tr>\n",
       "  </thead>\n",
       "  <tbody>\n",
       "    <tr>\n",
       "      <th>0</th>\n",
       "      <td>1</td>\n",
       "      <td>video</td>\n",
       "      <td>4/22/2018 6:00</td>\n",
       "      <td>529</td>\n",
       "      <td>512</td>\n",
       "      <td>262</td>\n",
       "      <td>432</td>\n",
       "      <td>92</td>\n",
       "      <td>3</td>\n",
       "      <td>1</td>\n",
       "      <td>1</td>\n",
       "      <td>0</td>\n",
       "      <td>NaN</td>\n",
       "      <td>NaN</td>\n",
       "      <td>NaN</td>\n",
       "      <td>NaN</td>\n",
       "    </tr>\n",
       "    <tr>\n",
       "      <th>1</th>\n",
       "      <td>2</td>\n",
       "      <td>photo</td>\n",
       "      <td>4/21/2018 22:45</td>\n",
       "      <td>150</td>\n",
       "      <td>0</td>\n",
       "      <td>0</td>\n",
       "      <td>150</td>\n",
       "      <td>0</td>\n",
       "      <td>0</td>\n",
       "      <td>0</td>\n",
       "      <td>0</td>\n",
       "      <td>0</td>\n",
       "      <td>NaN</td>\n",
       "      <td>NaN</td>\n",
       "      <td>NaN</td>\n",
       "      <td>NaN</td>\n",
       "    </tr>\n",
       "    <tr>\n",
       "      <th>2</th>\n",
       "      <td>3</td>\n",
       "      <td>video</td>\n",
       "      <td>4/21/2018 6:17</td>\n",
       "      <td>227</td>\n",
       "      <td>236</td>\n",
       "      <td>57</td>\n",
       "      <td>204</td>\n",
       "      <td>21</td>\n",
       "      <td>1</td>\n",
       "      <td>1</td>\n",
       "      <td>0</td>\n",
       "      <td>0</td>\n",
       "      <td>NaN</td>\n",
       "      <td>NaN</td>\n",
       "      <td>NaN</td>\n",
       "      <td>NaN</td>\n",
       "    </tr>\n",
       "    <tr>\n",
       "      <th>3</th>\n",
       "      <td>4</td>\n",
       "      <td>photo</td>\n",
       "      <td>4/21/2018 2:29</td>\n",
       "      <td>111</td>\n",
       "      <td>0</td>\n",
       "      <td>0</td>\n",
       "      <td>111</td>\n",
       "      <td>0</td>\n",
       "      <td>0</td>\n",
       "      <td>0</td>\n",
       "      <td>0</td>\n",
       "      <td>0</td>\n",
       "      <td>NaN</td>\n",
       "      <td>NaN</td>\n",
       "      <td>NaN</td>\n",
       "      <td>NaN</td>\n",
       "    </tr>\n",
       "    <tr>\n",
       "      <th>4</th>\n",
       "      <td>5</td>\n",
       "      <td>photo</td>\n",
       "      <td>4/18/2018 3:22</td>\n",
       "      <td>213</td>\n",
       "      <td>0</td>\n",
       "      <td>0</td>\n",
       "      <td>204</td>\n",
       "      <td>9</td>\n",
       "      <td>0</td>\n",
       "      <td>0</td>\n",
       "      <td>0</td>\n",
       "      <td>0</td>\n",
       "      <td>NaN</td>\n",
       "      <td>NaN</td>\n",
       "      <td>NaN</td>\n",
       "      <td>NaN</td>\n",
       "    </tr>\n",
       "  </tbody>\n",
       "</table>\n",
       "</div>"
      ],
      "text/plain": [
       "   status_id status_type status_published  num_reactions  num_comments  \\\n",
       "0          1       video   4/22/2018 6:00            529           512   \n",
       "1          2       photo  4/21/2018 22:45            150             0   \n",
       "2          3       video   4/21/2018 6:17            227           236   \n",
       "3          4       photo   4/21/2018 2:29            111             0   \n",
       "4          5       photo   4/18/2018 3:22            213             0   \n",
       "\n",
       "   num_shares  num_likes  num_loves  num_wows  num_hahas  num_sads  \\\n",
       "0         262        432         92         3          1         1   \n",
       "1           0        150          0         0          0         0   \n",
       "2          57        204         21         1          1         0   \n",
       "3           0        111          0         0          0         0   \n",
       "4           0        204          9         0          0         0   \n",
       "\n",
       "   num_angrys  Column1  Column2  Column3  Column4  \n",
       "0           0      NaN      NaN      NaN      NaN  \n",
       "1           0      NaN      NaN      NaN      NaN  \n",
       "2           0      NaN      NaN      NaN      NaN  \n",
       "3           0      NaN      NaN      NaN      NaN  \n",
       "4           0      NaN      NaN      NaN      NaN  "
      ]
     },
     "execution_count": 1,
     "metadata": {},
     "output_type": "execute_result"
    }
   ],
   "source": [
    "import pandas as pd\n",
    "import numpy as np\n",
    "import matplotlib as mpl\n",
    "import matplotlib.pyplot as plt\n",
    "from  sklearn.preprocessing import  MinMaxScaler,OneHotEncoder#拆分statue_type\n",
    "#和通过平均轮廓系数找出最佳K值\n",
    "from sklearn.metrics import silhouette_score \n",
    "from sklearn.cluster import KMeans\n",
    " \n",
    "%matplotlib inline\n",
    "\n",
    "raw_data=pd.read_csv(r'Live_20210128.csv')#上传数据\n",
    "raw_data.head(5)"
   ]
  },
  {
   "cell_type": "code",
   "execution_count": 2,
   "id": "541faeb3",
   "metadata": {},
   "outputs": [
    {
     "name": "stdout",
     "output_type": "stream",
     "text": [
      "***************************数据类型:****************************\n",
      "                        0\n",
      "status_id           int64\n",
      "status_type        object\n",
      "status_published   object\n",
      "num_reactions       int64\n",
      "num_comments        int64\n",
      "num_shares          int64\n",
      "num_likes           int64\n",
      "num_loves           int64\n",
      "num_wows            int64\n",
      "num_hahas           int64\n",
      "num_sads            int64\n",
      "num_angrys          int64\n",
      "Column1           float64\n",
      "Column2           float64\n",
      "Column3           float64\n",
      "Column4           float64\n",
      "**************************数据统计描述:***************************\n",
      "                count     mean      std  min      25%     50%      75%  \\\n",
      "status_id      7050.0  3525.50  2035.30  1.0  1763.25  3525.5  5287.75   \n",
      "num_reactions  7050.0   230.12   462.63  0.0    17.00    59.5   219.00   \n",
      "num_comments   7050.0   224.36   889.64  0.0     0.00     4.0    23.00   \n",
      "num_shares     7050.0    40.02   131.60  0.0     0.00     0.0     4.00   \n",
      "num_likes      7050.0   215.04   449.47  0.0    17.00    58.0   184.75   \n",
      "num_loves      7050.0    12.73    39.97  0.0     0.00     0.0     3.00   \n",
      "num_wows       7050.0     1.29     8.72  0.0     0.00     0.0     0.00   \n",
      "num_hahas      7050.0     0.70     3.96  0.0     0.00     0.0     0.00   \n",
      "num_sads       7050.0     0.24     1.60  0.0     0.00     0.0     0.00   \n",
      "num_angrys     7050.0     0.11     0.73  0.0     0.00     0.0     0.00   \n",
      "Column1           0.0      NaN      NaN  NaN      NaN     NaN      NaN   \n",
      "Column2           0.0      NaN      NaN  NaN      NaN     NaN      NaN   \n",
      "Column3           0.0      NaN      NaN  NaN      NaN     NaN      NaN   \n",
      "Column4           0.0      NaN      NaN  NaN      NaN     NaN      NaN   \n",
      "\n",
      "                   max  \n",
      "status_id       7050.0  \n",
      "num_reactions   4710.0  \n",
      "num_comments   20990.0  \n",
      "num_shares      3424.0  \n",
      "num_likes       4710.0  \n",
      "num_loves        657.0  \n",
      "num_wows         278.0  \n",
      "num_hahas        157.0  \n",
      "num_sads          51.0  \n",
      "num_angrys        31.0  \n",
      "Column1            NaN  \n",
      "Column2            NaN  \n",
      "Column3            NaN  \n",
      "Column4            NaN  \n"
     ]
    }
   ],
   "source": [
    "print('{:*^60}'.format('数据类型:'))\n",
    "print(pd.DataFrame(raw_data.dtypes)) \n",
    " \n",
    "print('{:*^60}'.format('数据统计描述:'))\n",
    "print(raw_data.describe().round(2).T) "
   ]
  },
  {
   "cell_type": "code",
   "execution_count": 3,
   "id": "9a799f41",
   "metadata": {},
   "outputs": [],
   "source": [
    "raw_data=raw_data.dropna(axis=1,how='all')\n",
    "#删除全为空值的列\n",
    "raw_data=raw_data.dropna(axis=0,how='any')\n",
    "#删除含空值的行"
   ]
  },
  {
   "cell_type": "code",
   "execution_count": 4,
   "id": "4c6c760a",
   "metadata": {},
   "outputs": [
    {
     "name": "stdout",
     "output_type": "stream",
     "text": [
      "***************************数据前两行:***************************\n",
      "   status_id status_type status_published  num_reactions  num_comments  \\\n",
      "0          1       video   4/22/2018 6:00            529           512   \n",
      "1          2       photo  4/21/2018 22:45            150             0   \n",
      "\n",
      "   num_shares  num_likes  num_loves  num_wows  num_hahas  num_sads  num_angrys  \n",
      "0         262        432         92         3          1         1           0  \n",
      "1           0        150          0         0          0         0           0  \n"
     ]
    }
   ],
   "source": [
    "print('{:*^60}'.format('数据前两行:'))\n",
    "print(raw_data.head(2)) "
   ]
  },
  {
   "cell_type": "code",
   "execution_count": 5,
   "id": "62c732c1",
   "metadata": {},
   "outputs": [
    {
     "name": "stdout",
     "output_type": "stream",
     "text": [
      "<class 'pandas.core.frame.DataFrame'>\n",
      "Int64Index: 7050 entries, 0 to 7049\n",
      "Data columns (total 5 columns):\n",
      " #   Column         Non-Null Count  Dtype \n",
      "---  ------         --------------  ----- \n",
      " 0   status_id      7050 non-null   int64 \n",
      " 1   status_type    7050 non-null   object\n",
      " 2   num_reactions  7050 non-null   int64 \n",
      " 3   num_comments   7050 non-null   int64 \n",
      " 4   num_shares     7050 non-null   int64 \n",
      "dtypes: int64(4), object(1)\n",
      "memory usage: 330.5+ KB\n"
     ]
    }
   ],
   "source": [
    "raw_data=raw_data.drop(['num_likes', 'num_loves','num_wows','num_hahas','num_sads','num_angrys','status_published'], axis=1)\n",
    "raw_data.info()"
   ]
  },
  {
   "cell_type": "code",
   "execution_count": 6,
   "id": "62fb777a",
   "metadata": {},
   "outputs": [],
   "source": [
    "var_cor = raw_data.corr()\n",
    "#var_cor.head().round(2).T"
   ]
  },
  {
   "cell_type": "code",
   "execution_count": 7,
   "id": "e1262eb2",
   "metadata": {
    "scrolled": true
   },
   "outputs": [
    {
     "data": {
      "image/png": "[encoded data removed]",
      "text/plain": [
       "<Figure size 720x360 with 2 Axes>"
      ]
     },
     "metadata": {
      "needs_background": "light"
     },
     "output_type": "display_data"
    }
   ],
   "source": [
    "import seaborn as sns\n",
    "f,ax = plt.subplots(figsize=(10, 5))\n",
    "ax = sns.heatmap(var_cor,cmap='Reds',annot = True)"
   ]
  },
  {
   "cell_type": "code",
   "execution_count": 8,
   "id": "5e2d0af2",
   "metadata": {},
   "outputs": [
    {
     "name": "stdout",
     "output_type": "stream",
     "text": [
      "   status_id status_type  num_reactions  num_shares\n",
      "0          1       video            529         262\n",
      "1          2       photo            150           0\n",
      "2          3       video            227          57\n",
      "3          4       photo            111           0\n",
      "4          5       photo            213           0\n"
     ]
    }
   ],
   "source": [
    "raw_data = raw_data.drop(['num_comments'],axis = 1)\n",
    "print(raw_data.head(5))"
   ]
  },
  {
   "cell_type": "code",
   "execution_count": 9,
   "id": "7a85c16d",
   "metadata": {},
   "outputs": [
    {
     "name": "stdout",
     "output_type": "stream",
     "text": [
      "   status_type_link  status_type_photo  status_type_status  status_type_video\n",
      "0                 0                  0                   0                  1\n",
      "1                 0                  1                   0                  0\n",
      "2                 0                  0                   0                  1\n",
      "3                 0                  1                   0                  0\n",
      "4                 0                  1                   0                  0\n"
     ]
    }
   ],
   "source": [
    "#将“status_type”转化成数值变量\n",
    "one_matrix = pd.get_dummies('status_type_'+raw_data['status_type'])\n",
    "print(one_matrix.head(5))"
   ]
  },
  {
   "cell_type": "code",
   "execution_count": 10,
   "id": "d316627f",
   "metadata": {
    "scrolled": false
   },
   "outputs": [
    {
     "name": "stdout",
     "output_type": "stream",
     "text": [
      "   status_id status_type  num_reactions  num_shares\n",
      "0          1       video            529         262\n",
      "1          2       photo            150           0\n",
      "************************************************************\n",
      "[[0.11 0.08 0.   0.   0.   1.  ]\n",
      " [0.03 0.   0.   1.   0.   0.  ]\n",
      " [0.05 0.02 0.   0.   0.   1.  ]\n",
      " ...\n",
      " [0.   0.   0.   1.   0.   0.  ]\n",
      " [0.07 0.01 0.   1.   0.   0.  ]\n",
      " [0.   0.   0.   1.   0.   0.  ]]\n"
     ]
    }
   ],
   "source": [
    "print(raw_data.head(2))\n",
    "print(\"*\"*60)\n",
    "\n",
    "data_matrix = raw_data.iloc[:,2:]#status_type打后的三个特征变量\n",
    "model_norm = MinMaxScaler()\n",
    "data_norm = model_norm.fit_transform(data_matrix)\n",
    "\n",
    "X = np.hstack((data_norm,one_matrix))\n",
    "\n",
    "print(X.round(2))"
   ]
  },
  {
   "cell_type": "code",
   "execution_count": 11,
   "id": "7695807a",
   "metadata": {},
   "outputs": [
    {
     "name": "stdout",
     "output_type": "stream",
     "text": [
      "最优的K值为：\n",
      " 4 对应的轮廓系数为：\n",
      " 0.9456653087149197\n"
     ]
    }
   ],
   "source": [
    "score_list = list() #建立列表存储每个K下模型的平均轮廓系数\n",
    "silhouette_int = -1 #初始化的平均轮廓系数阈值\n",
    "for n_clusters in range(2,8): #遍历2到8有限个组\n",
    "    model_kmeans = KMeans(n_clusters = n_clusters) #建立聚类模型对象\n",
    "    labels_tmp = model_kmeans.fit_predict(X) #训练聚类模型\n",
    "    silhouette_tmp = silhouette_score(X,labels_tmp)#计算每个K下的平均轮廓系数\n",
    "    if silhouette_tmp > silhouette_int: #如果平均轮廓系数更高\n",
    "        best_k = n_clusters #保存最好的k值\n",
    "        silhouette_int = silhouette_tmp #保存平均轮廓系数得分\n",
    "        best_kmeans = model_kmeans # 保存模型实例对象\n",
    "        cluster_labels_k = labels_tmp #保存聚类标签\n",
    "    score_list.append([n_clusters,silhouette_tmp]) # 将每次K及其得分追加到列表\n",
    "\n",
    "print('最优的K值为：\\n',best_k,'对应的轮廓系数为：\\n',silhouette_int)  "
   ]
  },
  {
   "cell_type": "code",
   "execution_count": 12,
   "id": "75cb81d7",
   "metadata": {},
   "outputs": [
    {
     "data": {
      "text/html": [
       "<div>\n",
       "<style scoped>\n",
       "    .dataframe tbody tr th:only-of-type {\n",
       "        vertical-align: middle;\n",
       "    }\n",
       "\n",
       "    .dataframe tbody tr th {\n",
       "        vertical-align: top;\n",
       "    }\n",
       "\n",
       "    .dataframe thead th {\n",
       "        text-align: right;\n",
       "    }\n",
       "</style>\n",
       "<table border=\"1\" class=\"dataframe\">\n",
       "  <thead>\n",
       "    <tr style=\"text-align: right;\">\n",
       "      <th></th>\n",
       "      <th>status_id</th>\n",
       "      <th>status_type</th>\n",
       "      <th>num_reactions</th>\n",
       "      <th>num_shares</th>\n",
       "      <th>clusters</th>\n",
       "    </tr>\n",
       "  </thead>\n",
       "  <tbody>\n",
       "    <tr>\n",
       "      <th>0</th>\n",
       "      <td>1</td>\n",
       "      <td>video</td>\n",
       "      <td>529</td>\n",
       "      <td>262</td>\n",
       "      <td>1</td>\n",
       "    </tr>\n",
       "    <tr>\n",
       "      <th>1</th>\n",
       "      <td>2</td>\n",
       "      <td>photo</td>\n",
       "      <td>150</td>\n",
       "      <td>0</td>\n",
       "      <td>0</td>\n",
       "    </tr>\n",
       "    <tr>\n",
       "      <th>2</th>\n",
       "      <td>3</td>\n",
       "      <td>video</td>\n",
       "      <td>227</td>\n",
       "      <td>57</td>\n",
       "      <td>1</td>\n",
       "    </tr>\n",
       "    <tr>\n",
       "      <th>3</th>\n",
       "      <td>4</td>\n",
       "      <td>photo</td>\n",
       "      <td>111</td>\n",
       "      <td>0</td>\n",
       "      <td>0</td>\n",
       "    </tr>\n",
       "    <tr>\n",
       "      <th>4</th>\n",
       "      <td>5</td>\n",
       "      <td>photo</td>\n",
       "      <td>213</td>\n",
       "      <td>0</td>\n",
       "      <td>0</td>\n",
       "    </tr>\n",
       "  </tbody>\n",
       "</table>\n",
       "</div>"
      ],
      "text/plain": [
       "   status_id status_type  num_reactions  num_shares  clusters\n",
       "0          1       video            529         262         1\n",
       "1          2       photo            150           0         0\n",
       "2          3       video            227          57         1\n",
       "3          4       photo            111           0         0\n",
       "4          5       photo            213           0         0"
      ]
     },
     "execution_count": 12,
     "metadata": {},
     "output_type": "execute_result"
    }
   ],
   "source": [
    "cluster_labels = pd.DataFrame(cluster_labels_k,columns = ['clusters']) # 获得训练集下的标签信息\n",
    "merge_data = pd.concat((raw_data,cluster_labels),axis = 1)\n",
    "\n",
    "merge_data.head(5)"
   ]
  },
  {
   "cell_type": "code",
   "execution_count": 13,
   "id": "ecdc78ad",
   "metadata": {
    "scrolled": true
   },
   "outputs": [],
   "source": [
    "#计算每个聚类类别的样本量\n",
    "clusters_count = pd.DataFrame(merge_data['status_type'].groupby(merge_data['clusters']).count()).T.rename({'status_type':'counts'})\n",
    "#计算每个聚类类别的样本占比\n",
    "clusters_rat = (clusters_count/ len(merge_data)).round(2).rename({'counts':'percentage'})"
   ]
  },
  {
   "cell_type": "code",
   "execution_count": 14,
   "id": "b04a0666",
   "metadata": {
    "scrolled": true
   },
   "outputs": [
    {
     "name": "stdout",
     "output_type": "stream",
     "text": [
      "每个聚类下的样本量：\n"
     ]
    },
    {
     "data": {
      "text/html": [
       "<div>\n",
       "<style scoped>\n",
       "    .dataframe tbody tr th:only-of-type {\n",
       "        vertical-align: middle;\n",
       "    }\n",
       "\n",
       "    .dataframe tbody tr th {\n",
       "        vertical-align: top;\n",
       "    }\n",
       "\n",
       "    .dataframe thead th {\n",
       "        text-align: right;\n",
       "    }\n",
       "</style>\n",
       "<table border=\"1\" class=\"dataframe\">\n",
       "  <thead>\n",
       "    <tr style=\"text-align: right;\">\n",
       "      <th>clusters</th>\n",
       "      <th>0</th>\n",
       "      <th>1</th>\n",
       "      <th>2</th>\n",
       "      <th>3</th>\n",
       "    </tr>\n",
       "  </thead>\n",
       "  <tbody>\n",
       "    <tr>\n",
       "      <th>counts</th>\n",
       "      <td>4288</td>\n",
       "      <td>2334</td>\n",
       "      <td>365</td>\n",
       "      <td>63</td>\n",
       "    </tr>\n",
       "  </tbody>\n",
       "</table>\n",
       "</div>"
      ],
      "text/plain": [
       "clusters     0     1    2   3\n",
       "counts    4288  2334  365  63"
      ]
     },
     "execution_count": 14,
     "metadata": {},
     "output_type": "execute_result"
    }
   ],
   "source": [
    "print(\"每个聚类下的样本量：\")\n",
    "clusters_count"
   ]
  },
  {
   "cell_type": "code",
   "execution_count": 15,
   "id": "25777241",
   "metadata": {},
   "outputs": [
    {
     "name": "stdout",
     "output_type": "stream",
     "text": [
      "\n",
      "每个聚类下的样本占比：\n"
     ]
    },
    {
     "data": {
      "text/html": [
       "<div>\n",
       "<style scoped>\n",
       "    .dataframe tbody tr th:only-of-type {\n",
       "        vertical-align: middle;\n",
       "    }\n",
       "\n",
       "    .dataframe tbody tr th {\n",
       "        vertical-align: top;\n",
       "    }\n",
       "\n",
       "    .dataframe thead th {\n",
       "        text-align: right;\n",
       "    }\n",
       "</style>\n",
       "<table border=\"1\" class=\"dataframe\">\n",
       "  <thead>\n",
       "    <tr style=\"text-align: right;\">\n",
       "      <th>clusters</th>\n",
       "      <th>0</th>\n",
       "      <th>1</th>\n",
       "      <th>2</th>\n",
       "      <th>3</th>\n",
       "    </tr>\n",
       "  </thead>\n",
       "  <tbody>\n",
       "    <tr>\n",
       "      <th>percentage</th>\n",
       "      <td>0.61</td>\n",
       "      <td>0.33</td>\n",
       "      <td>0.05</td>\n",
       "      <td>0.01</td>\n",
       "    </tr>\n",
       "  </tbody>\n",
       "</table>\n",
       "</div>"
      ],
      "text/plain": [
       "clusters       0     1     2     3\n",
       "percentage  0.61  0.33  0.05  0.01"
      ]
     },
     "execution_count": 15,
     "metadata": {},
     "output_type": "execute_result"
    }
   ],
   "source": [
    "print( \"\\n每个聚类下的样本占比：\")\n",
    "clusters_rat"
   ]
  },
  {
   "cell_type": "code",
   "execution_count": 16,
   "id": "85a296f2",
   "metadata": {},
   "outputs": [],
   "source": [
    "clusters_rat=clusters_rat.T"
   ]
  },
  {
   "cell_type": "code",
   "execution_count": 17,
   "id": "6437e3fe",
   "metadata": {},
   "outputs": [
    {
     "data": {
      "text/html": [
       "<div>\n",
       "<style scoped>\n",
       "    .dataframe tbody tr th:only-of-type {\n",
       "        vertical-align: middle;\n",
       "    }\n",
       "\n",
       "    .dataframe tbody tr th {\n",
       "        vertical-align: top;\n",
       "    }\n",
       "\n",
       "    .dataframe thead th {\n",
       "        text-align: right;\n",
       "    }\n",
       "</style>\n",
       "<table border=\"1\" class=\"dataframe\">\n",
       "  <thead>\n",
       "    <tr style=\"text-align: right;\">\n",
       "      <th></th>\n",
       "      <th>percentage</th>\n",
       "    </tr>\n",
       "    <tr>\n",
       "      <th>clusters</th>\n",
       "      <th></th>\n",
       "    </tr>\n",
       "  </thead>\n",
       "  <tbody>\n",
       "    <tr>\n",
       "      <th>0</th>\n",
       "      <td>0.61</td>\n",
       "    </tr>\n",
       "    <tr>\n",
       "      <th>1</th>\n",
       "      <td>0.33</td>\n",
       "    </tr>\n",
       "    <tr>\n",
       "      <th>2</th>\n",
       "      <td>0.05</td>\n",
       "    </tr>\n",
       "    <tr>\n",
       "      <th>3</th>\n",
       "      <td>0.01</td>\n",
       "    </tr>\n",
       "  </tbody>\n",
       "</table>\n",
       "</div>"
      ],
      "text/plain": [
       "          percentage\n",
       "clusters            \n",
       "0               0.61\n",
       "1               0.33\n",
       "2               0.05\n",
       "3               0.01"
      ]
     },
     "execution_count": 17,
     "metadata": {},
     "output_type": "execute_result"
    }
   ],
   "source": [
    "clusters_rat"
   ]
  },
  {
   "cell_type": "code",
   "execution_count": 18,
   "id": "f4543bb9",
   "metadata": {
    "scrolled": true
   },
   "outputs": [
    {
     "data": {
      "text/plain": [
       "([<matplotlib.patches.Wedge at 0x1fc808c7f10>,\n",
       "  <matplotlib.patches.Wedge at 0x1fc808ed640>,\n",
       "  <matplotlib.patches.Wedge at 0x1fc808edbe0>,\n",
       "  <matplotlib.patches.Wedge at 0x1fc808fa2b0>],\n",
       " [Text(-0.37261156498063613, 1.0349688988770056, '0'),\n",
       "  Text(0.17207754534698136, -1.0864572326545383, '1'),\n",
       "  Text(1.073508339617154, -0.23995800626864053, '2'),\n",
       "  Text(1.0994572013636048, -0.03455231352181899, '3')],\n",
       " [Text(-0.20324267180761968, 0.5645284902965484, '61.00%'),\n",
       "  Text(0.09386047928017163, -0.5926130359933844, '33.00%'),\n",
       "  Text(0.5855500034275386, -0.13088618523744028, '5.00%'),\n",
       "  Text(0.5997039280165116, -0.01884671646644672, '1.00%')])"
      ]
     },
     "execution_count": 18,
     "metadata": {},
     "output_type": "execute_result"
    },
    {
     "data": {
      "image/png": "[encoded data removed]",
      "text/plain": [
       "<Figure size 432x432 with 1 Axes>"
      ]
     },
     "metadata": {},
     "output_type": "display_data"
    }
   ],
   "source": [
    "fig = plt.figure(figsize=(6,6))\n",
    "plt.pie(clusters_rat['percentage'],\n",
    "       labels = clusters_count.columns,\n",
    "       autopct='%.2f%%',\n",
    "       radius=1)"
   ]
  },
  {
   "cell_type": "code",
   "execution_count": 19,
   "id": "1011b6e2",
   "metadata": {
    "scrolled": false
   },
   "outputs": [
    {
     "data": {
      "text/html": [
       "<div>\n",
       "<style scoped>\n",
       "    .dataframe tbody tr th:only-of-type {\n",
       "        vertical-align: middle;\n",
       "    }\n",
       "\n",
       "    .dataframe tbody tr th {\n",
       "        vertical-align: top;\n",
       "    }\n",
       "\n",
       "    .dataframe thead th {\n",
       "        text-align: right;\n",
       "    }\n",
       "</style>\n",
       "<table border=\"1\" class=\"dataframe\">\n",
       "  <thead>\n",
       "    <tr style=\"text-align: right;\">\n",
       "      <th></th>\n",
       "      <th>0</th>\n",
       "      <th>1</th>\n",
       "      <th>2</th>\n",
       "      <th>3</th>\n",
       "    </tr>\n",
       "  </thead>\n",
       "  <tbody>\n",
       "    <tr>\n",
       "      <th>num_reactions</th>\n",
       "      <td>443.507</td>\n",
       "      <td>446.605</td>\n",
       "      <td>622.976</td>\n",
       "      <td>632.676</td>\n",
       "    </tr>\n",
       "    <tr>\n",
       "      <th>num_shares</th>\n",
       "      <td>22.238</td>\n",
       "      <td>206.981</td>\n",
       "      <td>9.294</td>\n",
       "      <td>10.472</td>\n",
       "    </tr>\n",
       "    <tr>\n",
       "      <th>status_type</th>\n",
       "      <td>photo</td>\n",
       "      <td>video</td>\n",
       "      <td>status</td>\n",
       "      <td>link</td>\n",
       "    </tr>\n",
       "  </tbody>\n",
       "</table>\n",
       "</div>"
      ],
      "text/plain": [
       "                     0        1        2        3\n",
       "num_reactions  443.507  446.605  622.976  632.676\n",
       "num_shares      22.238  206.981    9.294   10.472\n",
       "status_type      photo    video   status     link"
      ]
     },
     "execution_count": 19,
     "metadata": {},
     "output_type": "execute_result"
    }
   ],
   "source": [
    "cluster_features = [] \n",
    "for line in range(best_k): #每种类\n",
    "    label_data =pd.DataFrame(merge_data[merge_data['clusters'] == line])#特定类的数据\n",
    "\n",
    "   \n",
    "    part1_data = label_data.iloc[:,2:4]\n",
    "    part1_desc = part1_data.describe().round(3) \n",
    "    merge_data1 = part1_desc.iloc[2,:]  #数值型特征的均值\n",
    "    \n",
    "    part2_data = label_data.iloc[:,1:2]\n",
    "    part2_desc = part2_data.describe(include='all')#字符串型数据特征的描述性统计信息\n",
    "    merge_data2 = part2_desc.iloc[2]  # 字符串型数据特征的最频繁值\n",
    "    \n",
    "    merge_line = pd.concat((merge_data1,merge_data2),axis=0)\n",
    "    \n",
    "    cluster_features.append(merge_line)\n",
    "\n",
    "clusters_pd = pd.DataFrame(cluster_features).T\n",
    "\n",
    "clusters_rat_=clusters_rat.T #前面转置过\n",
    "\n",
    "clusters_pd"
   ]
  },
  {
   "cell_type": "code",
   "execution_count": 20,
   "id": "b287b4f4",
   "metadata": {
    "scrolled": true
   },
   "outputs": [
    {
     "data": {
      "text/html": [
       "<div>\n",
       "<style scoped>\n",
       "    .dataframe tbody tr th:only-of-type {\n",
       "        vertical-align: middle;\n",
       "    }\n",
       "\n",
       "    .dataframe tbody tr th {\n",
       "        vertical-align: top;\n",
       "    }\n",
       "\n",
       "    .dataframe thead th {\n",
       "        text-align: right;\n",
       "    }\n",
       "</style>\n",
       "<table border=\"1\" class=\"dataframe\">\n",
       "  <thead>\n",
       "    <tr style=\"text-align: right;\">\n",
       "      <th>clusters</th>\n",
       "      <th>0</th>\n",
       "      <th>1</th>\n",
       "      <th>2</th>\n",
       "      <th>3</th>\n",
       "    </tr>\n",
       "  </thead>\n",
       "  <tbody>\n",
       "    <tr>\n",
       "      <th>counts</th>\n",
       "      <td>4288</td>\n",
       "      <td>2334</td>\n",
       "      <td>365</td>\n",
       "      <td>63</td>\n",
       "    </tr>\n",
       "  </tbody>\n",
       "</table>\n",
       "</div>"
      ],
      "text/plain": [
       "clusters     0     1    2   3\n",
       "counts    4288  2334  365  63"
      ]
     },
     "execution_count": 20,
     "metadata": {},
     "output_type": "execute_result"
    }
   ],
   "source": [
    "clusters_count"
   ]
  },
  {
   "cell_type": "code",
   "execution_count": 21,
   "id": "2df1f949",
   "metadata": {},
   "outputs": [
    {
     "data": {
      "text/html": [
       "<div>\n",
       "<style scoped>\n",
       "    .dataframe tbody tr th:only-of-type {\n",
       "        vertical-align: middle;\n",
       "    }\n",
       "\n",
       "    .dataframe tbody tr th {\n",
       "        vertical-align: top;\n",
       "    }\n",
       "\n",
       "    .dataframe thead th {\n",
       "        text-align: right;\n",
       "    }\n",
       "</style>\n",
       "<table border=\"1\" class=\"dataframe\">\n",
       "  <thead>\n",
       "    <tr style=\"text-align: right;\">\n",
       "      <th>clusters</th>\n",
       "      <th>0</th>\n",
       "      <th>1</th>\n",
       "      <th>2</th>\n",
       "      <th>3</th>\n",
       "    </tr>\n",
       "  </thead>\n",
       "  <tbody>\n",
       "    <tr>\n",
       "      <th>percentage</th>\n",
       "      <td>0.61</td>\n",
       "      <td>0.33</td>\n",
       "      <td>0.05</td>\n",
       "      <td>0.01</td>\n",
       "    </tr>\n",
       "  </tbody>\n",
       "</table>\n",
       "</div>"
      ],
      "text/plain": [
       "clusters       0     1     2     3\n",
       "percentage  0.61  0.33  0.05  0.01"
      ]
     },
     "execution_count": 21,
     "metadata": {},
     "output_type": "execute_result"
    }
   ],
   "source": [
    "clusters_rat_"
   ]
  },
  {
   "cell_type": "code",
   "execution_count": 22,
   "id": "eaceb2cf",
   "metadata": {},
   "outputs": [
    {
     "data": {
      "text/html": [
       "<div>\n",
       "<style scoped>\n",
       "    .dataframe tbody tr th:only-of-type {\n",
       "        vertical-align: middle;\n",
       "    }\n",
       "\n",
       "    .dataframe tbody tr th {\n",
       "        vertical-align: top;\n",
       "    }\n",
       "\n",
       "    .dataframe thead th {\n",
       "        text-align: right;\n",
       "    }\n",
       "</style>\n",
       "<table border=\"1\" class=\"dataframe\">\n",
       "  <thead>\n",
       "    <tr style=\"text-align: right;\">\n",
       "      <th></th>\n",
       "      <th>0</th>\n",
       "      <th>1</th>\n",
       "      <th>2</th>\n",
       "      <th>3</th>\n",
       "    </tr>\n",
       "  </thead>\n",
       "  <tbody>\n",
       "    <tr>\n",
       "      <th>counts</th>\n",
       "      <td>4288</td>\n",
       "      <td>2334</td>\n",
       "      <td>365</td>\n",
       "      <td>63</td>\n",
       "    </tr>\n",
       "    <tr>\n",
       "      <th>percentage</th>\n",
       "      <td>0.61</td>\n",
       "      <td>0.33</td>\n",
       "      <td>0.05</td>\n",
       "      <td>0.01</td>\n",
       "    </tr>\n",
       "    <tr>\n",
       "      <th>num_reactions</th>\n",
       "      <td>443.507</td>\n",
       "      <td>446.605</td>\n",
       "      <td>622.976</td>\n",
       "      <td>632.676</td>\n",
       "    </tr>\n",
       "    <tr>\n",
       "      <th>num_shares</th>\n",
       "      <td>22.238</td>\n",
       "      <td>206.981</td>\n",
       "      <td>9.294</td>\n",
       "      <td>10.472</td>\n",
       "    </tr>\n",
       "    <tr>\n",
       "      <th>status_type</th>\n",
       "      <td>photo</td>\n",
       "      <td>video</td>\n",
       "      <td>status</td>\n",
       "      <td>link</td>\n",
       "    </tr>\n",
       "  </tbody>\n",
       "</table>\n",
       "</div>"
      ],
      "text/plain": [
       "                     0        1        2        3\n",
       "counts            4288     2334      365       63\n",
       "percentage        0.61     0.33     0.05     0.01\n",
       "num_reactions  443.507  446.605  622.976  632.676\n",
       "num_shares      22.238  206.981    9.294   10.472\n",
       "status_type      photo    video   status     link"
      ]
     },
     "execution_count": 22,
     "metadata": {},
     "output_type": "execute_result"
    }
   ],
   "source": [
    "clusters_all = pd.concat((clusters_count,clusters_rat_,clusters_pd),axis = 0)\n",
    "clusters_all.head()"
   ]
  },
  {
   "cell_type": "code",
   "execution_count": 23,
   "id": "2f8c349f",
   "metadata": {},
   "outputs": [],
   "source": [
    "clusters_all.to_csv('new.csv')#下载/保持结果"
   ]
  }
 ],
 "metadata": {
  "kernelspec": {
   "display_name": "Python 3",
   "language": "python",
   "name": "python3"
  },
  "language_info": {
   "codemirror_mode": {
    "name": "ipython",
    "version": 3
   },
   "file_extension": ".py",
   "mimetype": "text/x-python",
   "name": "python",
   "nbconvert_exporter": "python",
   "pygments_lexer": "ipython3",
   "version": "3.8.8"
  }
 },
 "nbformat": 4,
 "nbformat_minor": 5
}
